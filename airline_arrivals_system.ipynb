{
 "cells": [
  {
   "cell_type": "markdown",
   "metadata": {
    "collapsed": false
   },
   "source": [
    "# Flight Arrival Delay Predicition System\n",
    "*Challenge for Startup.ML*\n",
    "\n",
    "### 1. Problem\n",
    "Use the US Dept. of Transportation on-time arrival data for non-stop domestic flights by major air carriers to predict arrival delays.\n",
    "This is a binary-classification model that predicts whether the arrival of the plane will be delayed (15 min or more) or not.\n",
    "Set up."
   ]
  },
  {
   "cell_type": "code",
   "execution_count": null,
   "metadata": {
    "collapsed": false
   },
   "outputs": [],
   "source": [
    "\"\"\" Author: Genevieve Tran\"\"\"\n",
    "import numpy as np\n",
    "import pandas as pd\n",
    "import matplotlib.pyplot as plt\n",
    "from os import listdir\n",
    "from scipy.stats import pearsonr\n",
    "from datetime import datetime, date\n",
    "import pickle \n",
    "from keras.utils import np_utils\n",
    "from sklearn.cross_validation import train_test_split\n",
    "%matplotlib inline\n",
    "from sklearn.preprocessing import Imputer\n",
    "from sklearn.ensemble import GradientBoostingClassifier\n",
    "from sklearn.metrics import f1_score\n",
    "from keras.models import Sequential\n",
    "from keras.layers.core import Dense, Activation, Dropout\n",
    "from keras.optimizers import SGD\n",
    "from sklearn.ensemble import RandomForestClassifier\n",
    "from sklearn.metrics import confusion_matrix, precision_recall_fscore_support, accuracy_score\n"
   ]
  },
  {
   "cell_type": "markdown",
   "metadata": {},
   "source": [
    "### 2. Data\n",
    "#### 2.1 Loading the data\n",
    "Downloading a year worth of data and put them in the data folder. Using this data I build up the Pandas DataFrame object."
   ]
  },
  {
   "cell_type": "code",
   "execution_count": 2,
   "metadata": {
    "collapsed": false
   },
   "outputs": [
    {
     "name": "stdout",
     "output_type": "stream",
     "text": [
      "Ended loading 2016_1.csv time : 0:00:10.140739\n",
      "Ended loading 2016_10.csv time : 0:00:13.855465\n",
      "Ended loading 2016_11.csv time : 0:00:10.362564\n",
      "Ended loading 2016_12.csv time : 0:00:13.830955\n",
      "Ended loading 2016_2.csv time : 0:00:10.137574\n",
      "Ended loading 2016_3.csv time : 0:00:09.978990\n",
      "Ended loading 2016_4.csv time : 0:00:10.681098\n",
      "Ended loading 2016_5.csv time : 0:00:11.391029\n",
      "Ended loading 2016_6.csv time : 0:00:11.878589\n",
      "Ended loading 2016_7.csv time : 0:00:15.438024\n",
      "Ended loading 2016_8.csv time : 0:00:10.268767\n",
      "Ended loading 2016_9.csv time : 0:00:09.747773\n"
     ]
    }
   ],
   "source": [
    "data = pd.DataFrame()\n",
    "list_ = []\n",
    "for file in listdir('ArrivalDelayPrediction/flights_data'):\n",
    "    if file != '.DS_Store':\n",
    "        start = datetime.now()\n",
    "        df = pd.read_csv('ArrivalDelayPrediction/flights_data/{}'.format(file), index_col=None, header=0, low_memory=False)\n",
    "        list_.append(df)\n",
    "        del df\n",
    "        print(\"Ended loading \" + file[28:] + \" time : \" + str(datetime.now() - start))"
   ]
  },
  {
   "cell_type": "code",
   "execution_count": 3,
   "metadata": {
    "collapsed": false,
    "scrolled": false
   },
   "outputs": [
    {
     "name": "stdout",
     "output_type": "stream",
     "text": [
      "Starting concatentaion...\n",
      "Finished concatenating, took: 0:00:23.469550\n"
     ]
    }
   ],
   "source": [
    "print(\"Starting concatentaion...\")\n",
    "s = datetime.now()\n",
    "df = pd.concat(list_, ignore_index=True)\n",
    "print(\"Finished concatenating, took: \" + str(datetime.now() - s))"
   ]
  },
  {
   "cell_type": "markdown",
   "metadata": {},
   "source": [
    "#### 2.2 Manual Feature Production\n",
    "After reading up on similar problems online there are 2 features I want to add to the dataset.\n",
    "1. Weather Indicator variable at the destination airport\n",
    "This is a feature that depends on the weather status of the arriving airport which can be interpreted from the number of flights cancelled at that airport with cancellation code B\n",
    "2. Days to the closest national holiday\n",
    "These are helpful indicators of whether a flight will be delayed or not"
   ]
  },
  {
   "cell_type": "code",
   "execution_count": 4,
   "metadata": {
    "collapsed": false
   },
   "outputs": [],
   "source": [
    "cf = df.groupby(['FlightDate', 'Origin', 'CancellationCode'], as_index=False).aggregate(np.sum)\n",
    "cf = cf[cf['CancellationCode'] == 'B'][['FlightDate', 'Origin', 'Cancelled']]\n",
    "cf.rename(columns={'Origin': 'Dest', 'Cancelled': 'Weather'}, inplace=True)"
   ]
  },
  {
   "cell_type": "code",
   "execution_count": 5,
   "metadata": {
    "collapsed": false
   },
   "outputs": [],
   "source": [
    "df = df.merge(cf, how='left', on=['FlightDate', 'Dest'])\n",
    "df['Weather'] = df['Weather'].fillna(0)"
   ]
  },
  {
   "cell_type": "code",
   "execution_count": 6,
   "metadata": {
    "collapsed": false
   },
   "outputs": [],
   "source": [
    "holidays = [date(2016, 1, 1), date(2016, 1, 15), date(2016, 2, 19), date(2016, 5, 28), date(2016, 6, 7), date(2016, 7, 4), \\\n",
    "        date(2016, 9, 3), date(2016, 10, 8), date(2016, 11, 11), date(2016, 11, 22), date(2016, 12, 25),]\n",
    "def days_from_nearest_holiday(flight_date):\n",
    "    year = int(flight_date[:4])\n",
    "    month = int(flight_date[5:7])\n",
    "    day = int(flight_date[8:])\n",
    "    d = date(year, month, day)\n",
    "    x = [(abs(d-h)).days for h in holidays]\n",
    "    return min(x)"
   ]
  },
  {
   "cell_type": "code",
   "execution_count": 7,
   "metadata": {
    "collapsed": false
   },
   "outputs": [],
   "source": [
    "df['DaysFromHoliday'] = df['FlightDate'].apply(days_from_nearest_holiday)"
   ]
  },
  {
   "cell_type": "markdown",
   "metadata": {},
   "source": [
    "#### 2.2 Data Clean-Up\n",
    "1. Remove all the flights that were canceled, because that will not help our model. \n",
    "2. Delete any rows that are missing the entry any of the multi-class predictor variables (e.g. 'ARR_DEL15','ORIGIN', 'DEST', 'UNIQUE_CARRIER')\n",
    "3. Drop any columns with more than 15% of missing data. \n",
    "4. Flight time should be converted to hours for better generalization."
   ]
  },
  {
   "cell_type": "code",
   "execution_count": 8,
   "metadata": {
    "collapsed": false
   },
   "outputs": [],
   "source": [
    "# Only include non-canceled flights\n",
    "df = df[df['Cancelled'] == 0]"
   ]
  },
  {
   "cell_type": "code",
   "execution_count": 9,
   "metadata": {
    "collapsed": false
   },
   "outputs": [],
   "source": [
    "# Deleting the rows that are missing an entry for all of the multi-class features\n",
    "multi_class = ['ArrDel15', 'Origin', 'Dest', 'UniqueCarrier']\n",
    "df.dropna(axis=0, how='any', subset=multi_class, inplace=True)"
   ]
  },
  {
   "cell_type": "code",
   "execution_count": 10,
   "metadata": {
    "collapsed": false
   },
   "outputs": [],
   "source": [
    "# Deleting the columns with over 5% missing data\n",
    "df.dropna(axis=1, thresh=int(data.shape[0] * .10), inplace=True)"
   ]
  },
  {
   "cell_type": "code",
   "execution_count": 11,
   "metadata": {
    "collapsed": true
   },
   "outputs": [],
   "source": [
    "# Adding a new hour feature\n",
    "def hour(time):\n",
    "    if len(str(time)) == 4:\n",
    "        return int(str(time)[:2])\n",
    "    return int(str(time)[0])"
   ]
  },
  {
   "cell_type": "code",
   "execution_count": 12,
   "metadata": {
    "collapsed": false
   },
   "outputs": [],
   "source": [
    "df['Hour'] = df['CRSDepTime'].apply(hour)"
   ]
  },
  {
   "cell_type": "markdown",
   "metadata": {
    "collapsed": true
   },
   "source": [
    "### 3. Visualizing features and their relevance\n",
    "Analyzing which suspected features have the most relevance with respect to the delays."
   ]
  },
  {
   "cell_type": "code",
   "execution_count": 13,
   "metadata": {
    "collapsed": false
   },
   "outputs": [
    {
     "name": "stdout",
     "output_type": "stream",
     "text": [
      "Index(['Year', 'Quarter', 'Month', 'DayofMonth', 'DayOfWeek', 'FlightDate',\n",
      "       'UniqueCarrier', 'AirlineID', 'Carrier', 'TailNum',\n",
      "       ...\n",
      "       'Div5AirportSeqID', 'Div5WheelsOn', 'Div5TotalGTime',\n",
      "       'Div5LongestGTime', 'Div5WheelsOff', 'Div5TailNum', 'Unnamed: 109',\n",
      "       'Weather', 'DaysFromHoliday', 'Hour'],\n",
      "      dtype='object', length=113)\n"
     ]
    }
   ],
   "source": [
    "print(df.columns)"
   ]
  },
  {
   "cell_type": "code",
   "execution_count": 14,
   "metadata": {
    "collapsed": false
   },
   "outputs": [
    {
     "data": {
      "image/png": "[encoded data removed]",
      "text/plain": [
       "<matplotlib.figure.Figure at 0x1240c2080>"
      ]
     },
     "metadata": {},
     "output_type": "display_data"
    },
    {
     "data": {
      "image/png": "[encoded data removed]",
      "text/plain": [
       "<matplotlib.figure.Figure at 0x25cff1d30>"
      ]
     },
     "metadata": {},
     "output_type": "display_data"
    },
    {
     "data": {
      "image/png": "[encoded data removed]",
      "text/plain": [
       "<matplotlib.figure.Figure at 0x118efca20>"
      ]
     },
     "metadata": {},
     "output_type": "display_data"
    },
    {
     "data": {
      "image/png": "[encoded data removed]",
      "text/plain": [
       "<matplotlib.figure.Figure at 0x10ee12f60>"
      ]
     },
     "metadata": {},
     "output_type": "display_data"
    },
    {
     "data": {
      "image/png": "[encoded data removed]",
      "text/plain": [
       "<matplotlib.figure.Figure at 0x25cf44cf8>"
      ]
     },
     "metadata": {},
     "output_type": "display_data"
    },
    {
     "data": {
      "image/png": "[encoded data removed]",
      "text/plain": [
       "<matplotlib.figure.Figure at 0x128b85d30>"
      ]
     },
     "metadata": {},
     "output_type": "display_data"
    },
    {
     "data": {
      "image/png": "[encoded data removed]",
      "text/plain": [
       "<matplotlib.figure.Figure at 0x128ffed68>"
      ]
     },
     "metadata": {},
     "output_type": "display_data"
    },
    {
     "data": {
      "image/png": "[encoded data removed]",
      "text/plain": [
       "<matplotlib.figure.Figure at 0x129003240>"
      ]
     },
     "metadata": {},
     "output_type": "display_data"
    }
   ],
   "source": [
    "features_mean = ['Month', 'DayOfWeek','Hour', 'DepartureDelayGroups', 'DaysFromHoliday', 'Weather']\n",
    "features_num = ['Carrier', 'DestCityName']\n",
    "\n",
    "for f in features_mean:\n",
    "    grouped = df[['ArrDel15', f]].groupby(f).mean()\n",
    "    grouped.plot(kind='bar')\n",
    "for f in features_num:\n",
    "    # Compute average number of delayed flights per carrier\n",
    "    grouped1 = df[['ArrDel15', f]].groupby(f).filter(lambda x: len(x)>10)\n",
    "    grouped2 = grouped1.groupby(f).mean()\n",
    "    final = grouped2.sort_values(['ArrDel15'], ascending=False)\n",
    "\n",
    "    # display top 15 destination carriers by delay (from ORD)\n",
    "    final[:15].plot(kind='bar')\n"
   ]
  },
  {
   "cell_type": "markdown",
   "metadata": {},
   "source": [
    "### 4. Data Modeling\n"
   ]
  },
  {
   "cell_type": "code",
   "execution_count": 15,
   "metadata": {
    "collapsed": false
   },
   "outputs": [],
   "source": [
    "features = ['Month','DayofMonth','DayOfWeek','UniqueCarrier',\n",
    "            'Diverted','Distance', 'Weather', 'Hour', 'DaysFromHoliday']\n",
    "label = 'ArrDel15'\n",
    "\n",
    "X = pd.get_dummies(df[features], columns=['UniqueCarrier'])\n",
    "Y = np_utils.to_categorical(df[label])\n",
    "\n",
    "xtrain, xtest, ytrain, ytest = train_test_split(X, Y, train_size=0.75, random_state=1234)"
   ]
  },
  {
   "cell_type": "code",
   "execution_count": 16,
   "metadata": {
    "collapsed": false
   },
   "outputs": [],
   "source": [
    "xtrain = xtrain.as_matrix()\n",
    "xtest = xtest.as_matrix()"
   ]
  },
  {
   "cell_type": "markdown",
   "metadata": {},
   "source": [
    "#### 4.1 Random Forest"
   ]
  },
  {
   "cell_type": "code",
   "execution_count": 17,
   "metadata": {
    "collapsed": false
   },
   "outputs": [
    {
     "name": "stdout",
     "output_type": "stream",
     "text": [
      "Start training\n"
     ]
    },
    {
     "name": "stderr",
     "output_type": "stream",
     "text": [
      "[Parallel(n_jobs=-1)]: Done  42 tasks      | elapsed:  9.7min\n"
     ]
    },
    {
     "name": "stdout",
     "output_type": "stream",
     "text": [
      "Finished training\n"
     ]
    },
    {
     "name": "stderr",
     "output_type": "stream",
     "text": [
      "[Parallel(n_jobs=-1)]: Done 100 out of 100 | elapsed: 21.4min finished\n"
     ]
    }
   ],
   "source": [
    "clf_rf = RandomForestClassifier(n_estimators=100, n_jobs=-1, verbose=1)\n",
    "print(\"Start training\")\n",
    "clf_rf.fit(xtrain, ytrain)\n",
    "print(\"Finished training\")"
   ]
  },
  {
   "cell_type": "code",
   "execution_count": 18,
   "metadata": {
    "collapsed": false
   },
   "outputs": [
    {
     "name": "stderr",
     "output_type": "stream",
     "text": [
      "[Parallel(n_jobs=4)]: Done  42 tasks      | elapsed:   30.9s\n",
      "[Parallel(n_jobs=4)]: Done 100 out of 100 | elapsed:  1.1min finished\n"
     ]
    }
   ],
   "source": [
    "# Evaluate on test set\n",
    "pr = clf_rf.predict(xtest)"
   ]
  },
  {
   "cell_type": "code",
   "execution_count": 19,
   "metadata": {
    "collapsed": false
   },
   "outputs": [],
   "source": [
    "def convert_categ_to_st(y_vector):\n",
    "    y = []\n",
    "    for i in range(len(y_vector)):\n",
    "        y.append(float(y_vector[i][1]))\n",
    "    return y"
   ]
  },
  {
   "cell_type": "code",
   "execution_count": 21,
   "metadata": {
    "collapsed": false
   },
   "outputs": [
    {
     "name": "stdout",
     "output_type": "stream",
     "text": [
      "Confusion matrix\n",
      "         0       1\n",
      "0  1087346   56911\n",
      "1    67322  172958\n",
      "Test Accuracy:0.910271087013\n"
     ]
    }
   ],
   "source": [
    "ytest = convert_categ_to_st(ytest)\n",
    "predictions = convert_categ_to_st(pr)\n",
    "\n",
    "cm = confusion_matrix(ytest, predictions)\n",
    "print(\"Confusion matrix\")\n",
    "print(pd.DataFrame(cm))\n",
    "report_rf = precision_recall_fscore_support(list(ytest), list(predictions), average='micro')\n",
    "print(\"Test Accuracy:\" + str(accuracy_score(ytest, predictions)))"
   ]
  }
 ],
 "metadata": {
  "kernelspec": {
   "display_name": "Python 3",
   "language": "python",
   "name": "python3"
  },
  "language_info": {
   "codemirror_mode": {
    "name": "ipython",
    "version": 3
   },
   "file_extension": ".py",
   "mimetype": "text/x-python",
   "name": "python",
   "nbconvert_exporter": "python",
   "pygments_lexer": "ipython3",
   "version": "3.6.0"
  }
 },
 "nbformat": 4,
 "nbformat_minor": 2
}
